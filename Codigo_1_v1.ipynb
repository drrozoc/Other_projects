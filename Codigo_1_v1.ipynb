{
  "nbformat": 4,
  "nbformat_minor": 0,
  "metadata": {
    "colab": {
      "provenance": []
    },
    "kernelspec": {
      "name": "python3",
      "display_name": "Python 3"
    },
    "language_info": {
      "name": "python"
    }
  },
  "cells": [
    {
      "cell_type": "code",
      "execution_count": null,
      "metadata": {
        "id": "W8kTPY9FFVBI"
      },
      "outputs": [],
      "source": [
        "import pandas as pd\n",
        "from sklearn.feature_extraction.text import TfidfVectorizer\n",
        "from sklearn.metrics.pairwise import cosine_similarity\n",
        "\n"
      ]
    },
    {
      "cell_type": "code",
      "source": [
        "!pip install nltk\n",
        "import nltk\n",
        "nltk.download('stopwords')\n",
        "from nltk.corpus import stopwords"
      ],
      "metadata": {
        "colab": {
          "base_uri": "https://localhost:8080/"
        },
        "id": "8tBiaxd9GdQn",
        "outputId": "8cda52bd-11a7-44cf-9e3d-42dfdc5a815c"
      },
      "execution_count": null,
      "outputs": [
        {
          "output_type": "stream",
          "name": "stdout",
          "text": [
            "Requirement already satisfied: nltk in /usr/local/lib/python3.11/dist-packages (3.9.1)\n",
            "Requirement already satisfied: click in /usr/local/lib/python3.11/dist-packages (from nltk) (8.1.8)\n",
            "Requirement already satisfied: joblib in /usr/local/lib/python3.11/dist-packages (from nltk) (1.4.2)\n",
            "Requirement already satisfied: regex>=2021.8.3 in /usr/local/lib/python3.11/dist-packages (from nltk) (2024.11.6)\n",
            "Requirement already satisfied: tqdm in /usr/local/lib/python3.11/dist-packages (from nltk) (4.67.1)\n"
          ]
        },
        {
          "output_type": "stream",
          "name": "stderr",
          "text": [
            "[nltk_data] Downloading package stopwords to /root/nltk_data...\n",
            "[nltk_data]   Unzipping corpora/stopwords.zip.\n"
          ]
        }
      ]
    },
    {
      "cell_type": "code",
      "source": [
        "def generate_matches(data, entity_type, top_n=5):\n",
        "    \"\"\"\n",
        "    Genera coincidencias entre universidades, empresas y entidades gubernamentales\n",
        "    basadas en similitud de contenido utilizando TF-IDF y similitud coseno.\n",
        "    \"\"\"\n",
        "\n",
        "    # Convertir datos en DataFrame\n",
        "    df = pd.DataFrame(data)\n",
        "\n",
        "    # Verificar si el tipo de entidad es válido\n",
        "    if entity_type not in ['empresa', 'universidad', 'gobierno']:\n",
        "        raise ValueError(\"El tipo de entidad debe ser 'empresa', 'universidad' o 'gobierno'\")\n",
        "\n",
        "    # Filtrar por el tipo de entidad\n",
        "    target_entities = df[df['tipo'] == entity_type]\n",
        "    other_entities = df[df['tipo'] != entity_type]\n",
        "\n",
        "    # Vectorización TF-IDF\n",
        "    vectorizer = TfidfVectorizer(stop_words=None)  # Cambio 'spanish' por None\n",
        "    tfidf_matrix = vectorizer.fit_transform(df['descripcion'])\n",
        "\n",
        "    # Calcular similitud coseno\n",
        "    cosine_sim = cosine_similarity(tfidf_matrix)\n",
        "\n",
        "    # Generar recomendaciones\n",
        "    results = {}\n",
        "    for index, row in target_entities.iterrows():\n",
        "        idx = df[df['nombre'] == row['nombre']].index[0]\n",
        "        sim_scores = list(enumerate(cosine_sim[idx]))\n",
        "        sim_scores = sorted(sim_scores, key=lambda x: x[1], reverse=True)\n",
        "        sim_scores = [s for s in sim_scores if s[0] != idx]  # Excluir la misma entidad\n",
        "\n",
        "        matched_entities = [(df.iloc[i]['nombre'], df.iloc[i]['tipo'], score) for i, score in sim_scores[:top_n]]\n",
        "        results[row['nombre']] = matched_entities\n",
        "\n",
        "    return results\n"
      ],
      "metadata": {
        "id": "nVG4WdmfFv7P"
      },
      "execution_count": null,
      "outputs": []
    },
    {
      "cell_type": "code",
      "source": [
        "df = pd.DataFrame(data)\n",
        "print(df['descripcion'])"
      ],
      "metadata": {
        "colab": {
          "base_uri": "https://localhost:8080/"
        },
        "id": "E3Fn2_gG20wo",
        "outputId": "7b4d9a44-f927-4125-d6a2-c6092ec87f97"
      },
      "execution_count": null,
      "outputs": [
        {
          "output_type": "stream",
          "name": "stdout",
          "text": [
            "0     Investigación en semiconductores y nanotecnolo...\n",
            "1     Fabricación de dispositivos electrónicos y cir...\n",
            "2     Programas de financiamiento para innovación en...\n",
            "3     Centro de desarrollo en telecomunicaciones y e...\n",
            "4     Diseño de sensores electrónicos para aplicacio...\n",
            "5     Subsidios y apoyo a empresas de tecnología ava...\n",
            "6     Investigación en inteligencia artificial aplic...\n",
            "7     Desarrollo de software embebido para hardware ...\n",
            "8     Normativas y regulaciones para la importación ...\n",
            "9     Laboratorio de electrónica de potencia y energ...\n",
            "10    Fabricación de baterías de alto rendimiento pa...\n",
            "11    Fondos de inversión para startups de tecnologí...\n",
            "12    Investigación en bioelectrónica y dispositivos...\n",
            "13    Automatización de procesos industriales con si...\n",
            "Name: descripcion, dtype: object\n"
          ]
        }
      ]
    },
    {
      "cell_type": "code",
      "source": [
        "def find_relevant_agents(data, query, top_n=5):\n",
        "    \"\"\"\n",
        "    Encuentra los agentes (empresas, universidades, programas gubernamentales) más relevantes\n",
        "    basados en una palabra clave o frase.\n",
        "    \"\"\"\n",
        "    df = pd.DataFrame(data)\n",
        "\n",
        "    # Vectorización TF-IDF\n",
        "    vectorizer = TfidfVectorizer(stop_words=None)\n",
        "    tfidf_matrix = vectorizer.fit_transform(df['descripcion'])\n",
        "    query_vector = vectorizer.transform([query])\n",
        "\n",
        "    # Calcular similitud coseno entre la consulta y todas las entidades\n",
        "    cosine_sim = cosine_similarity(query_vector, tfidf_matrix).flatten()\n",
        "\n",
        "    # Obtener las entidades más relevantes\n",
        "    top_indices = cosine_sim.argsort()[-top_n:][::-1]\n",
        "    relevant_agents = [(df.iloc[i]['nombre'], df.iloc[i]['tipo'], cosine_sim[i]) for i in top_indices]\n",
        "\n",
        "    return relevant_agents"
      ],
      "metadata": {
        "id": "U9pvNFScI8aV"
      },
      "execution_count": null,
      "outputs": []
    },
    {
      "cell_type": "code",
      "source": [
        "\n",
        "# Datos de prueba ampliados\n",
        "data = [\n",
        "    {\"nombre\": \"Universidad A\", \"tipo\": \"universidad\", \"descripcion\": \"Investigación en semiconductores y nanotecnología.\"},\n",
        "    {\"nombre\": \"Empresa B\", \"tipo\": \"empresa\", \"descripcion\": \"Fabricación de dispositivos electrónicos y circuitos integrados.\"},\n",
        "    {\"nombre\": \"Gobierno C\", \"tipo\": \"gobierno\", \"descripcion\": \"Programas de financiamiento para innovación en electrónica.\"},\n",
        "    {\"nombre\": \"Universidad D\", \"tipo\": \"universidad\", \"descripcion\": \"Centro de desarrollo en telecomunicaciones y electrónica industrial.\"},\n",
        "    {\"nombre\": \"Empresa E\", \"tipo\": \"empresa\", \"descripcion\": \"Diseño de sensores electrónicos para aplicaciones médicas.\"},\n",
        "    {\"nombre\": \"Gobierno F\", \"tipo\": \"gobierno\", \"descripcion\": \"Subsidios y apoyo a empresas de tecnología avanzada.\"},\n",
        "    {\"nombre\": \"Universidad G\", \"tipo\": \"universidad\", \"descripcion\": \"Investigación en inteligencia artificial aplicada a circuitos electrónicos.\"},\n",
        "    {\"nombre\": \"Empresa H\", \"tipo\": \"empresa\", \"descripcion\": \"Desarrollo de software embebido para hardware electrónico.\"},\n",
        "    {\"nombre\": \"Gobierno I\", \"tipo\": \"gobierno\", \"descripcion\": \"Normativas y regulaciones para la importación de semiconductores.\"},\n",
        "    {\"nombre\": \"Universidad J\", \"tipo\": \"universidad\", \"descripcion\": \"Laboratorio de electrónica de potencia y energías renovables.\"},\n",
        "    {\"nombre\": \"Empresa K\", \"tipo\": \"empresa\", \"descripcion\": \"Fabricación de baterías de alto rendimiento para dispositivos electrónicos.\"},\n",
        "    {\"nombre\": \"Gobierno L\", \"tipo\": \"gobierno\", \"descripcion\": \"Fondos de inversión para startups de tecnología electrónica.\"},\n",
        "    {\"nombre\": \"Universidad M\", \"tipo\": \"universidad\", \"descripcion\": \"Investigación en bioelectrónica y dispositivos médicos.\"},\n",
        "    {\"nombre\": \"Empresa N\", \"tipo\": \"empresa\", \"descripcion\": \"Automatización de procesos industriales con sistemas electrónicos.\"}\n",
        "]\n"
      ],
      "metadata": {
        "id": "HDoaXMVjF0M9"
      },
      "execution_count": null,
      "outputs": []
    },
    {
      "cell_type": "code",
      "source": [
        "\n",
        "# Ejemplo de uso\n",
        "matches = generate_matches(data, 'empresa')\n",
        "for key, value in matches.items():\n",
        "    print(f\"\\n{key} se puede conectar con:\")\n",
        "    for v in value:\n",
        "        print(f\"  - {v[0]} ({v[1]}) con similitud {v[2]:.2f}\")\n"
      ],
      "metadata": {
        "colab": {
          "base_uri": "https://localhost:8080/"
        },
        "id": "oJU_WbG4F3fN",
        "outputId": "0b735cf1-900d-43ac-a2b3-e4160e37d65e"
      },
      "execution_count": null,
      "outputs": [
        {
          "output_type": "stream",
          "name": "stdout",
          "text": [
            "\n",
            "Empresa B se puede conectar con:\n",
            "  - Empresa K (empresa) con similitud 0.45\n",
            "  - Universidad G (universidad) con similitud 0.27\n",
            "  - Universidad M (universidad) con similitud 0.16\n",
            "  - Empresa E (empresa) con similitud 0.13\n",
            "  - Empresa N (empresa) con similitud 0.13\n",
            "\n",
            "Empresa E se puede conectar con:\n",
            "  - Empresa K (empresa) con similitud 0.20\n",
            "  - Empresa B (empresa) con similitud 0.13\n",
            "  - Gobierno L (gobierno) con similitud 0.13\n",
            "  - Gobierno C (gobierno) con similitud 0.11\n",
            "  - Empresa N (empresa) con similitud 0.11\n",
            "\n",
            "Empresa H se puede conectar con:\n",
            "  - Universidad D (universidad) con similitud 0.18\n",
            "  - Gobierno L (gobierno) con similitud 0.13\n",
            "  - Empresa K (empresa) con similitud 0.12\n",
            "  - Gobierno C (gobierno) con similitud 0.11\n",
            "  - Empresa E (empresa) con similitud 0.10\n",
            "\n",
            "Empresa K se puede conectar con:\n",
            "  - Empresa B (empresa) con similitud 0.45\n",
            "  - Empresa E (empresa) con similitud 0.20\n",
            "  - Gobierno L (gobierno) con similitud 0.18\n",
            "  - Gobierno C (gobierno) con similitud 0.13\n",
            "  - Universidad M (universidad) con similitud 0.13\n",
            "\n",
            "Empresa N se puede conectar con:\n",
            "  - Empresa K (empresa) con similitud 0.13\n",
            "  - Empresa B (empresa) con similitud 0.13\n",
            "  - Empresa E (empresa) con similitud 0.11\n",
            "  - Universidad G (universidad) con similitud 0.08\n",
            "  - Universidad J (universidad) con similitud 0.06\n"
          ]
        }
      ]
    },
    {
      "cell_type": "code",
      "source": [
        "# Buscar agentes relevantes por palabra clave\n",
        "query = \"desarrollo de baterías de litio\"\n",
        "relevant_agents = find_relevant_agents(data, query)\n",
        "print(\"\\nAgentes relevantes para la búsqueda de 'desarrollo de baterías de litio':\")\n",
        "for agent in relevant_agents:\n",
        "    print(f\"  - {agent[0]} ({agent[1]}) con similitud {agent[2]:.2f}\")\n"
      ],
      "metadata": {
        "colab": {
          "base_uri": "https://localhost:8080/"
        },
        "id": "3MQLTbNmJCf1",
        "outputId": "9184e736-89c6-4a68-d2b8-bda93e16955b"
      },
      "execution_count": null,
      "outputs": [
        {
          "output_type": "stream",
          "name": "stdout",
          "text": [
            "\n",
            "Agentes relevantes para la búsqueda de 'desarrollo de baterías de litio':\n",
            "  - Empresa K (empresa) con similitud 0.45\n",
            "  - Universidad D (universidad) con similitud 0.32\n",
            "  - Empresa H (empresa) con similitud 0.30\n",
            "  - Universidad J (universidad) con similitud 0.19\n",
            "  - Gobierno L (gobierno) con similitud 0.19\n"
          ]
        }
      ]
    }
  ]
}